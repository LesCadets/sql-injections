{
 "cells": [
  {
   "cell_type": "markdown",
   "id": "07d3d006",
   "metadata": {},
   "source": [
    " #"
   ]
  },
  {
   "cell_type": "markdown",
   "id": "1090a221",
   "metadata": {},
   "source": [
    "# In516 Cursus project - SQL injection detection"
   ]
  },
  {
   "cell_type": "markdown",
   "id": "3b2e6f4f",
   "metadata": {},
   "source": [
    "#### Objective : Predict, using machine learning and deep learning, if a SQL query is a SQL injection attack or not.\n"
   ]
  },
  {
   "cell_type": "markdown",
   "id": "e76f1ecb",
   "metadata": {},
   "source": [
    "# 1. Import the relevant libraries"
   ]
  },
  {
   "cell_type": "code",
   "execution_count": 1,
   "id": "66290795",
   "metadata": {
    "ExecuteTime": {
     "end_time": "2024-01-22T23:48:48.360462Z",
     "start_time": "2024-01-22T23:48:41.925485800Z"
    }
   },
   "outputs": [],
   "source": [
    "import pandas as pd\n",
    "from matplotlib import pyplot as plt\n",
    "from spacy.compat import pickle\n",
    "import seaborn as sns\n",
    "import numpy as np\n",
    "import itertools\n",
    "import warnings\n",
    "\n",
    "warnings.filterwarnings('ignore')"
   ]
  },
  {
   "cell_type": "markdown",
   "id": "38b61158",
   "metadata": {},
   "source": [
    "We open and read the data files. We can see that the dataset is composed of 2 columns : the first one is the query, the second one is the label (0 for benign and 1 for SQL injection attack)."
   ]
  },
  {
   "cell_type": "code",
   "execution_count": 3,
   "id": "e0c382d4",
   "metadata": {
    "ExecuteTime": {
     "end_time": "2024-01-22T23:50:46.851359200Z",
     "start_time": "2024-01-22T23:50:46.714116200Z"
    }
   },
   "outputs": [],
   "source": [
    "df = pd.read_csv('data/Modified_SQL_Dataset.csv')"
   ]
  },
  {
   "cell_type": "code",
   "outputs": [
    {
     "data": {
      "text/plain": "                                               Query  Label\n0                  \" or pg_sleep  (  __TIME__  )  --      1\n1  create user name identified by pass123 tempora...      1\n2   AND 1  =  utl_inaddr.get_host_address   (    ...      1\n3   select * from users where id  =  '1' or @ @1 ...      1\n4   select * from users where id  =  1 or 1#\"  ( ...      1",
      "text/html": "<div>\n<style scoped>\n    .dataframe tbody tr th:only-of-type {\n        vertical-align: middle;\n    }\n\n    .dataframe tbody tr th {\n        vertical-align: top;\n    }\n\n    .dataframe thead th {\n        text-align: right;\n    }\n</style>\n<table border=\"1\" class=\"dataframe\">\n  <thead>\n    <tr style=\"text-align: right;\">\n      <th></th>\n      <th>Query</th>\n      <th>Label</th>\n    </tr>\n  </thead>\n  <tbody>\n    <tr>\n      <th>0</th>\n      <td>\" or pg_sleep  (  __TIME__  )  --</td>\n      <td>1</td>\n    </tr>\n    <tr>\n      <th>1</th>\n      <td>create user name identified by pass123 tempora...</td>\n      <td>1</td>\n    </tr>\n    <tr>\n      <th>2</th>\n      <td>AND 1  =  utl_inaddr.get_host_address   (    ...</td>\n      <td>1</td>\n    </tr>\n    <tr>\n      <th>3</th>\n      <td>select * from users where id  =  '1' or @ @1 ...</td>\n      <td>1</td>\n    </tr>\n    <tr>\n      <th>4</th>\n      <td>select * from users where id  =  1 or 1#\"  ( ...</td>\n      <td>1</td>\n    </tr>\n  </tbody>\n</table>\n</div>"
     },
     "execution_count": 4,
     "metadata": {},
     "output_type": "execute_result"
    }
   ],
   "source": [
    "df.head()"
   ],
   "metadata": {
    "collapsed": false,
    "ExecuteTime": {
     "end_time": "2024-01-22T23:50:47.283739400Z",
     "start_time": "2024-01-22T23:50:47.227715400Z"
    }
   },
   "id": "d1b74ef0487c3929",
   "execution_count": 4
  },
  {
   "cell_type": "code",
   "outputs": [
    {
     "name": "stdout",
     "output_type": "stream",
     "text": [
      "\n",
      "Shape of train set: (30919, 2)\n"
     ]
    }
   ],
   "source": [
    "print('\\nShape of train set:', df.shape)"
   ],
   "metadata": {
    "collapsed": false,
    "ExecuteTime": {
     "end_time": "2024-01-22T23:52:34.877517900Z",
     "start_time": "2024-01-22T23:52:34.841479Z"
    }
   },
   "id": "62ea39999faefef5",
   "execution_count": 5
  },
  {
   "cell_type": "markdown",
   "id": "e97399e4",
   "metadata": {},
   "source": [
    "## 1 - Quick dataset analysis"
   ]
  },
  {
   "cell_type": "markdown",
   "id": "ca714359",
   "metadata": {},
   "source": [
    "Now that the dataset is imported in the jupyter file, we can start exploring, digging in the datas to see what it is composed of, understand the variables in it, the possible links between them, find the target etc. This step is very important because it allows the user to understand the meaning of datasets, see if information has to be changed, or removed and also start thinking about how datas should be used with the future implemented model.\n",
    "\n",
    "### A) Dataset cleaning and verifications\n",
    "\n"
   ]
  },
  {
   "cell_type": "markdown",
   "id": "8f8fae70",
   "metadata": {},
   "source": [
    "First, we check if there are repetitions of observations in the dataset."
   ]
  },
  {
   "cell_type": "code",
   "execution_count": 6,
   "id": "e9740eea",
   "metadata": {
    "ExecuteTime": {
     "end_time": "2024-01-22T23:52:39.577564Z",
     "start_time": "2024-01-22T23:52:39.479919700Z"
    }
   },
   "outputs": [
    {
     "name": "stdout",
     "output_type": "stream",
     "text": [
      "Shape of train set: (30907, 2)\n"
     ]
    }
   ],
   "source": [
    "df = df.drop_duplicates()\n",
    "print('Shape of train set:', df.shape)"
   ]
  },
  {
   "cell_type": "markdown",
   "source": [
    "We can see that there were some repetitions in the dataset, so we removed them. Repetitions are not very good for the model because it can lead to overfitting and globally bias the model training."
   ],
   "metadata": {
    "collapsed": false
   },
   "id": "9d4c8ed965108eef"
  },
  {
   "cell_type": "markdown",
   "id": "80fbaf3c",
   "metadata": {
    "ExecuteTime": {
     "start_time": "2023-11-16T11:47:08.655112Z",
     "end_time": "2023-11-16T11:47:08.844460Z"
    }
   },
   "source": [
    "### B) Analysis of the datasets"
   ]
  },
  {
   "cell_type": "markdown",
   "source": [
    "We can start by displaying some charcteristics in order to know the size of the dataset and what's inside."
   ],
   "metadata": {
    "collapsed": false
   },
   "id": "2f883cdf1f797b0a"
  },
  {
   "cell_type": "code",
   "execution_count": 7,
   "id": "a8c41713",
   "metadata": {
    "ExecuteTime": {
     "end_time": "2024-01-22T23:52:56.545685700Z",
     "start_time": "2024-01-22T23:52:56.504087400Z"
    }
   },
   "outputs": [
    {
     "name": "stdout",
     "output_type": "stream",
     "text": [
      "Column names: Index(['Query', 'Label'], dtype='object') \n",
      "\n",
      "Dataset shape: (30907, 2) \n",
      "\n",
      "Variables types: Query    object\n",
      "Label     int64\n",
      "dtype: object \n",
      "\n",
      "Variables types count: object    1\n",
      "int64     1\n",
      "Name: count, dtype: int64\n"
     ]
    }
   ],
   "source": [
    "columnNames = df.columns\n",
    "datasetShape = df.shape\n",
    "variablesTypes = df.dtypes\n",
    "variablesTypesCount = df.dtypes.value_counts()\n",
    "\n",
    "print('Column names:', columnNames, '\\n')\n",
    "print('Dataset shape:', datasetShape, '\\n')\n",
    "print('Variables types:', variablesTypes, '\\n')\n",
    "print('Variables types count:', variablesTypesCount)"
   ]
  },
  {
   "cell_type": "markdown",
   "source": [
    "We can see that the dataset is composed of 2 columns : the first one is the query, the second one is the label (0 for benign and 1 for SQL injection attack).\n",
    "The features are the queries and the target is the label. It's the value we want to predict."
   ],
   "metadata": {
    "collapsed": false
   },
   "id": "401a59dbff648ff7"
  },
  {
   "cell_type": "markdown",
   "id": "38d98767",
   "metadata": {
    "ExecuteTime": {
     "start_time": "2023-11-16T11:55:18.180908Z",
     "end_time": "2023-11-16T11:55:18.225977Z"
    }
   },
   "source": [
    "### C) Analysis of the target variable"
   ]
  },
  {
   "cell_type": "code",
   "execution_count": 8,
   "id": "ed4699ef",
   "metadata": {
    "ExecuteTime": {
     "end_time": "2024-01-22T23:52:59.613439800Z",
     "start_time": "2024-01-22T23:52:59.031285Z"
    }
   },
   "outputs": [
    {
     "name": "stdout",
     "output_type": "stream",
     "text": [
      "Repartition of the target:\n",
      " Label\n",
      "0    19529\n",
      "1    11378\n",
      "Name: count, dtype: int64\n",
      "\n",
      "Type of this variable: int64\n"
     ]
    },
    {
     "data": {
      "text/plain": "[Text(0, 0, 'benign'), Text(0, 1, 'SQL injection attacks')]"
     },
     "execution_count": 8,
     "metadata": {},
     "output_type": "execute_result"
    },
    {
     "data": {
      "text/plain": "<Figure size 1000x800 with 1 Axes>",
      "image/png": "[encoded data removed]"
     },
     "metadata": {},
     "output_type": "display_data"
    }
   ],
   "source": [
    "count_target = df['Label'].value_counts()\n",
    "target_type = df['Label'].dtype\n",
    "\n",
    "print('Repartition of the target:\\n', count_target)\n",
    "print('\\nType of this variable:', target_type)\n",
    "\n",
    "# plot the distribution of benign and SQL injection attacks in the dataset\n",
    "plt.figure(figsize=(10, 8))\n",
    "plt.title('Distribution of benign and SQL injection attacks in the dataset')\n",
    "ax = count_target.plot(kind='barh')\n",
    "ax.set_xlabel('Number of queries')\n",
    "ax.set_ylabel('Type of queries')\n",
    "for i, v in enumerate(count_target):\n",
    "    ax.text(v + 3, i + .25, str(v), color='black', fontweight='bold')\n",
    "\n",
    "# change 0 and 1 by benign and SQL injection attacks\n",
    "ax.set_yticklabels(['benign', 'SQL injection attacks'])\n"
   ]
  },
  {
   "cell_type": "markdown",
   "id": "36c11f4f",
   "metadata": {},
   "source": [
    "## 2 - Pre-processing"
   ]
  },
  {
   "cell_type": "code",
   "execution_count": 9,
   "id": "95c9cf02",
   "metadata": {
    "ExecuteTime": {
     "end_time": "2024-01-22T23:53:13.430996700Z",
     "start_time": "2024-01-22T23:53:12.902187500Z"
    }
   },
   "outputs": [],
   "source": [
    "from sklearn.model_selection import train_test_split"
   ]
  },
  {
   "cell_type": "markdown",
   "source": [
    "First, we make a copy of the original datasets."
   ],
   "metadata": {
    "collapsed": false
   },
   "id": "8fa0b4a74e1615b9"
  },
  {
   "cell_type": "code",
   "execution_count": 10,
   "outputs": [],
   "source": [
    "df_copy = df.copy()"
   ],
   "metadata": {
    "collapsed": false,
    "ExecuteTime": {
     "end_time": "2024-01-22T23:53:14.380497500Z",
     "start_time": "2024-01-22T23:53:14.334285Z"
    }
   },
   "id": "aba6ebf3dedb1d96"
  },
  {
   "cell_type": "markdown",
   "source": [
    "We can finally build the matrices X and y for the train and  test sets"
   ],
   "metadata": {
    "collapsed": false
   },
   "id": "bd87bd186f364c92"
  },
  {
   "cell_type": "code",
   "execution_count": 11,
   "outputs": [],
   "source": [
    "X = df['Query']\n",
    "y = df['Label']"
   ],
   "metadata": {
    "collapsed": false,
    "ExecuteTime": {
     "end_time": "2024-01-22T23:53:16.151592300Z",
     "start_time": "2024-01-22T23:53:16.111477900Z"
    }
   },
   "id": "577264594a7f718f"
  },
  {
   "cell_type": "markdown",
   "source": [
    "# Tokenize the query column"
   ],
   "metadata": {
    "collapsed": false
   },
   "id": "9634a75571be8e0e"
  },
  {
   "cell_type": "markdown",
   "source": [
    "This step is very important because it allows us to convert the text data into numerical data that can be used by machine learning and deep learning models. Otherwise, the models won't be able to understand the text data.\n",
    "We have several methods to tokenize the text data, we can use the Tokenizer, TF-IDF vectorizer or any other method. We will use the Tokenizer from keras as it is sufficient for our work."
   ],
   "metadata": {
    "collapsed": false
   },
   "id": "a115ff6bc4f09f70"
  },
  {
   "cell_type": "code",
   "execution_count": 12,
   "outputs": [],
   "source": [
    "# import the necessary libraries\n",
    "import pandas as pd\n",
    "from keras.preprocessing.text import Tokenizer\n",
    "from keras.preprocessing.sequence import pad_sequences\n",
    "\n",
    "# convert the queries to a list\n",
    "queries = df['Query'].tolist()\n",
    "\n",
    "# preprocess the queries\n",
    "processed_queries = []\n",
    "padded_sequences = []\n",
    "for query in queries:\n",
    "    # convert to lowercase\n",
    "    query = query.lower()\n",
    "\n",
    "    # tokenization\n",
    "    tokens = query.split()\n",
    "\n",
    "    # join the tokens\n",
    "    processed_query = ' '.join(tokens)\n",
    "\n",
    "    # append to the list\n",
    "    processed_queries.append(processed_query)\n",
    "\n",
    "# convert text to sequences\n",
    "tokenizer = Tokenizer()\n",
    "tokenizer.fit_on_texts(processed_queries)\n",
    "sequences = tokenizer.texts_to_sequences(processed_queries)\n",
    "\n",
    "# pad the sequences\n",
    "padded_sequences = pad_sequences(sequences, maxlen=50)\n",
    "\n",
    "with open('tokenizer.pickle', 'wb') as handle:\n",
    "    pickle.dump(tokenizer, handle, protocol=pickle.HIGHEST_PROTOCOL)\n",
    "\n"
   ],
   "metadata": {
    "collapsed": false,
    "ExecuteTime": {
     "end_time": "2024-01-22T23:53:27.100431900Z",
     "start_time": "2024-01-22T23:53:19.622021500Z"
    }
   },
   "id": "da59d6de2ea3cb54"
  },
  {
   "cell_type": "markdown",
   "source": [
    "# Split the dataset into train and test sets"
   ],
   "metadata": {
    "collapsed": false
   },
   "id": "5131c5bf0f5b63ae"
  },
  {
   "cell_type": "raw",
   "source": [
    "Check if there already is a trained model"
   ],
   "metadata": {
    "collapsed": false
   },
   "id": "6936a901ed32dd66"
  },
  {
   "cell_type": "code",
   "execution_count": 14,
   "outputs": [
    {
     "name": "stdout",
     "output_type": "stream",
     "text": [
      "Creating and training a new model...\n",
      "Run all the cells below\n"
     ]
    }
   ],
   "source": [
    "import os.path\n",
    "\n",
    "if os.path.exists('trained_model_sql_injection.pickle'):\n",
    "    print('Loading trained model...')\n",
    "    model = pickle.load(open('trained_model_sql_injection.pickle', 'rb'))\n",
    "    print(\"*************************************************************************\")\n",
    "    print(\"Model loaded, you can now go to the last cell to make a prediction\")\n",
    "    print(\"*************************************************************************\")\n",
    "else:\n",
    "    print('Creating and training a new model...')\n",
    "    print(\"Run all the cells below\")"
   ],
   "metadata": {
    "collapsed": false,
    "ExecuteTime": {
     "end_time": "2024-01-22T23:53:49.565553700Z",
     "start_time": "2024-01-22T23:53:49.481645800Z"
    }
   },
   "id": "ee57b195b5888cda"
  },
  {
   "cell_type": "code",
   "execution_count": 32,
   "outputs": [
    {
     "name": "stdout",
     "output_type": "stream",
     "text": [
      "Shape of train set: (24725, 50)\n",
      "Shape of test set: (6182, 50)\n"
     ]
    }
   ],
   "source": [
    "X_train, X_test, y_train, y_test = train_test_split(padded_sequences, y, test_size=0.2, random_state=42)\n",
    "# print the shape of the train and test sets\n",
    "print('Shape of train set:', X_train.shape)\n",
    "print('Shape of test set:', X_test.shape)"
   ],
   "metadata": {
    "collapsed": false,
    "ExecuteTime": {
     "end_time": "2024-01-23T00:22:22.319218800Z",
     "start_time": "2024-01-23T00:22:22.280544700Z"
    }
   },
   "id": "94c550591b3b457e"
  },
  {
   "cell_type": "code",
   "outputs": [
    {
     "name": "stdout",
     "output_type": "stream",
     "text": [
      "[[    0     0     0 ...  3375  3375  3375]\n",
      " [    0     0     0 ...    30    18     3]\n",
      " [    0     0     0 ...     1    79  2217]\n",
      " ...\n",
      " [    0     0     0 ...  1099   108     3]\n",
      " [    0     0     0 ...     0     0 22345]\n",
      " [    0     0     0 ...    19    47    65]]\n"
     ]
    }
   ],
   "source": [
    "print(X_train)"
   ],
   "metadata": {
    "collapsed": false,
    "ExecuteTime": {
     "end_time": "2024-01-23T00:22:22.889494300Z",
     "start_time": "2024-01-23T00:22:22.840730400Z"
    }
   },
   "id": "5b4d072c814df388",
   "execution_count": 33
  },
  {
   "cell_type": "markdown",
   "source": [
    "In the train set, we have now 50 columns which corresponds to each word in the queries that hhave been tokenized in addition of the zero padding."
   ],
   "metadata": {
    "collapsed": false
   },
   "id": "83519f60a23d61c0"
  },
  {
   "cell_type": "markdown",
   "source": [
    "# Test with several machine learning models"
   ],
   "metadata": {
    "collapsed": false
   },
   "id": "354fbfb75d83ade7"
  },
  {
   "cell_type": "markdown",
   "source": [
    "Our first thought was to use a simple machine learning to predict the target variable. We will use several algorithms and compare their accuracy to choose the best one."
   ],
   "metadata": {
    "collapsed": false
   },
   "id": "410ad688186b1243"
  },
  {
   "cell_type": "code",
   "execution_count": 34,
   "outputs": [
    {
     "name": "stdout",
     "output_type": "stream",
     "text": [
      "Logistic Regression \n",
      "Accuracy: 0.7576835975412488 \n",
      "\n",
      "Confusion Matrix:\n",
      " [[3671  241]\n",
      " [1257 1013]] \n",
      "\n",
      "Classification Report:\n",
      "               precision    recall  f1-score   support\n",
      "\n",
      "           0       0.74      0.94      0.83      3912\n",
      "           1       0.81      0.45      0.57      2270\n",
      "\n",
      "    accuracy                           0.76      6182\n",
      "   macro avg       0.78      0.69      0.70      6182\n",
      "weighted avg       0.77      0.76      0.74      6182\n",
      "10-fold Cross Validation:\n",
      " 0.7582600990372397\n",
      "=====================================================================\n",
      "Random Forest \n",
      "Accuracy: 0.9949854416046587 \n",
      "\n",
      "Confusion Matrix:\n",
      " [[3894   18]\n",
      " [  13 2257]] \n",
      "\n",
      "Classification Report:\n",
      "               precision    recall  f1-score   support\n",
      "\n",
      "           0       1.00      1.00      1.00      3912\n",
      "           1       0.99      0.99      0.99      2270\n",
      "\n",
      "    accuracy                           0.99      6182\n",
      "   macro avg       0.99      0.99      0.99      6182\n",
      "weighted avg       0.99      0.99      0.99      6182\n",
      "10-fold Cross Validation:\n",
      " 0.9952680044807547\n",
      "=====================================================================\n",
      "Decision Tree \n",
      "Accuracy: 0.9909414428987383 \n",
      "\n",
      "Confusion Matrix:\n",
      " [[3873   39]\n",
      " [  17 2253]] \n",
      "\n",
      "Classification Report:\n",
      "               precision    recall  f1-score   support\n",
      "\n",
      "           0       1.00      0.99      0.99      3912\n",
      "           1       0.98      0.99      0.99      2270\n",
      "\n",
      "    accuracy                           0.99      6182\n",
      "   macro avg       0.99      0.99      0.99      6182\n",
      "weighted avg       0.99      0.99      0.99      6182\n",
      "10-fold Cross Validation:\n",
      " 0.9902123843660402\n",
      "=====================================================================\n",
      "Support Vector Machine \n",
      "Accuracy: 0.9019734713684892 \n",
      "\n",
      "Confusion Matrix:\n",
      " [[3809  103]\n",
      " [ 503 1767]] \n",
      "\n",
      "Classification Report:\n",
      "               precision    recall  f1-score   support\n",
      "\n",
      "           0       0.88      0.97      0.93      3912\n",
      "           1       0.94      0.78      0.85      2270\n",
      "\n",
      "    accuracy                           0.90      6182\n",
      "   macro avg       0.91      0.88      0.89      6182\n",
      "weighted avg       0.91      0.90      0.90      6182\n",
      "10-fold Cross Validation:\n",
      " 0.8634175634064729\n",
      "=====================================================================\n",
      "K-Nearest Neighbors \n",
      "Accuracy: 0.9775153671950825 \n",
      "\n",
      "Confusion Matrix:\n",
      " [[3846   66]\n",
      " [  73 2197]] \n",
      "\n",
      "Classification Report:\n",
      "               precision    recall  f1-score   support\n",
      "\n",
      "           0       0.98      0.98      0.98      3912\n",
      "           1       0.97      0.97      0.97      2270\n",
      "\n",
      "    accuracy                           0.98      6182\n",
      "   macro avg       0.98      0.98      0.98      6182\n",
      "weighted avg       0.98      0.98      0.98      6182\n",
      "10-fold Cross Validation:\n",
      " 0.9773916224022028\n",
      "=====================================================================\n"
     ]
    }
   ],
   "source": [
    "# create an Machine learning algorithm to predict the target variable\n",
    "from sklearn.linear_model import LogisticRegression\n",
    "from sklearn.metrics import accuracy_score, confusion_matrix, classification_report\n",
    "from sklearn.model_selection import cross_val_score\n",
    "from sklearn.ensemble import RandomForestClassifier\n",
    "from sklearn.tree import DecisionTreeClassifier\n",
    "from sklearn.svm import SVC\n",
    "from sklearn.neighbors import KNeighborsClassifier\n",
    "    \n",
    "# create a dictionary of models\n",
    "models = {'Logistic Regression': LogisticRegression(),\n",
    "          'Random Forest': RandomForestClassifier(),\n",
    "          'Decision Tree': DecisionTreeClassifier(),\n",
    "          'Support Vector Machine': SVC(),\n",
    "          'K-Nearest Neighbors': KNeighborsClassifier()}\n",
    "\n",
    "# create a function to train and evaluate the models\n",
    "def train_and_evaluate(model, X_train, y_train, X_test, y_test):\n",
    "    # train the model\n",
    "    model.fit(X_train, y_train)\n",
    "\n",
    "    # make predictions\n",
    "    y_pred = model.predict(X_test)\n",
    "\n",
    "    # print the accuracy score\n",
    "    print('Accuracy:', accuracy_score(y_test, y_pred), '\\n')\n",
    "\n",
    "    # print the confusion matrix\n",
    "    print('Confusion Matrix:\\n', confusion_matrix(y_test, y_pred), '\\n')\n",
    "\n",
    "    # print the classification report\n",
    "    print('Classification Report:\\n', classification_report(y_test, y_pred))\n",
    "\n",
    "    # apply k-fold cross validation\n",
    "    accuracies = cross_val_score(estimator=model, X=X_train, y=y_train, cv=10)\n",
    "    print('10-fold Cross Validation:\\n', accuracies.mean())\n",
    "    \n",
    "# train and evaluate the models\n",
    "for name, model in models.items():\n",
    "    print(name, '\\n')\n",
    "    train_and_evaluate(model, X_train, y_train, X_test, y_test)\n",
    "    print('=====================================================================')"
   ],
   "metadata": {
    "collapsed": false,
    "ExecuteTime": {
     "end_time": "2024-01-23T00:28:27.697472200Z",
     "start_time": "2024-01-23T00:22:26.866988600Z"
    }
   },
   "id": "3edc62b505b00978"
  },
  {
   "cell_type": "code",
   "execution_count": 35,
   "outputs": [],
   "source": [
    "# save the best accuracy model using pickle\n",
    "import pickle\n",
    "\n",
    "# save the model to disk\n",
    "filename = 'ml_model.pickle'\n",
    "pickle.dump(models['Random Forest'], open(filename, 'wb'))"
   ],
   "metadata": {
    "collapsed": false,
    "ExecuteTime": {
     "end_time": "2024-01-23T00:29:25.225138600Z",
     "start_time": "2024-01-23T00:29:25.118998300Z"
    }
   },
   "id": "4ecc8b2f2ff45255"
  },
  {
   "cell_type": "code",
   "execution_count": 36,
   "outputs": [
    {
     "data": {
      "text/plain": "<Figure size 1200x800 with 1 Axes>",
      "image/png": "[encoded data removed]"
     },
     "metadata": {},
     "output_type": "display_data"
    }
   ],
   "source": [
    "# plot the accuracy of the models\n",
    "plt.figure(figsize=(12, 8))\n",
    "plt.title('Accuracy of the models')\n",
    "plt.xlabel('Models')\n",
    "plt.ylabel('Accuracy')\n",
    "plt.bar(list(models.keys()), [accuracy_score(y_test, model.predict(X_test)) for model in models.values()])\n",
    "plt.show()"
   ],
   "metadata": {
    "collapsed": false,
    "ExecuteTime": {
     "end_time": "2024-01-23T00:29:43.155215Z",
     "start_time": "2024-01-23T00:29:27.012407100Z"
    }
   },
   "id": "dc4e056c76e01cab"
  },
  {
   "cell_type": "markdown",
   "source": [
    "We can see that the best accuracy is obtained with the Random Forest algorithm. We could use it to predict the target variable. However, to use a model in out API, we need to save it as hdf5 file. As we didn't succeed to save the Random Forest model as hdf5 file, we will use a deep neural network model with keras."
   ],
   "metadata": {
    "collapsed": false
   },
   "id": "91298f0e74b0b832"
  },
  {
   "cell_type": "markdown",
   "source": [
    "# Test with a deep neural network model with keras"
   ],
   "metadata": {
    "collapsed": false
   },
   "id": "e2e2636343a5f203"
  },
  {
   "cell_type": "markdown",
   "source": [
    "We create a simple DNN model with keras, then we fit it on the train set and evaluate it on the test set. Finally we save the model to use it in our web application."
   ],
   "metadata": {
    "collapsed": false
   },
   "id": "54e8573994836920"
  },
  {
   "cell_type": "code",
   "execution_count": 73,
   "outputs": [
    {
     "name": "stdout",
     "output_type": "stream",
     "text": [
      "Epoch 1/30\n",
      "387/387 [==============================] - 9s 22ms/step - loss: 0.3083 - accuracy: 0.9031 - val_loss: 0.1677 - val_accuracy: 0.9777\n",
      "Epoch 2/30\n",
      "387/387 [==============================] - 7s 19ms/step - loss: 0.1383 - accuracy: 0.9833 - val_loss: 0.1234 - val_accuracy: 0.9824\n",
      "Epoch 3/30\n",
      "387/387 [==============================] - 7s 19ms/step - loss: 0.1065 - accuracy: 0.9894 - val_loss: 0.1049 - val_accuracy: 0.9867\n",
      "Epoch 4/30\n",
      "387/387 [==============================] - 7s 19ms/step - loss: 0.0908 - accuracy: 0.9904 - val_loss: 0.0925 - val_accuracy: 0.9909\n",
      "Epoch 5/30\n",
      "387/387 [==============================] - 7s 19ms/step - loss: 0.0796 - accuracy: 0.9920 - val_loss: 0.0842 - val_accuracy: 0.9909\n",
      "Epoch 6/30\n",
      "387/387 [==============================] - 8s 21ms/step - loss: 0.0722 - accuracy: 0.9920 - val_loss: 0.0784 - val_accuracy: 0.9916\n",
      "Epoch 7/30\n",
      "387/387 [==============================] - 9s 22ms/step - loss: 0.0663 - accuracy: 0.9929 - val_loss: 0.0737 - val_accuracy: 0.9914\n",
      "Epoch 8/30\n",
      "387/387 [==============================] - 12s 31ms/step - loss: 0.0620 - accuracy: 0.9929 - val_loss: 0.0709 - val_accuracy: 0.9916\n",
      "Epoch 9/30\n",
      "387/387 [==============================] - 9s 24ms/step - loss: 0.0581 - accuracy: 0.9932 - val_loss: 0.0671 - val_accuracy: 0.9916\n",
      "Epoch 10/30\n",
      "387/387 [==============================] - 12s 30ms/step - loss: 0.0545 - accuracy: 0.9935 - val_loss: 0.0640 - val_accuracy: 0.9919\n",
      "Epoch 11/30\n",
      "387/387 [==============================] - 9s 23ms/step - loss: 0.0517 - accuracy: 0.9936 - val_loss: 0.0615 - val_accuracy: 0.9919\n",
      "Epoch 12/30\n",
      "387/387 [==============================] - 7s 19ms/step - loss: 0.0490 - accuracy: 0.9939 - val_loss: 0.0593 - val_accuracy: 0.9916\n",
      "Epoch 13/30\n",
      "387/387 [==============================] - 8s 20ms/step - loss: 0.0468 - accuracy: 0.9940 - val_loss: 0.0591 - val_accuracy: 0.9932\n",
      "Epoch 14/30\n",
      "387/387 [==============================] - 8s 21ms/step - loss: 0.0451 - accuracy: 0.9941 - val_loss: 0.0591 - val_accuracy: 0.9918\n",
      "Epoch 15/30\n",
      "387/387 [==============================] - 8s 20ms/step - loss: 0.0435 - accuracy: 0.9942 - val_loss: 0.0555 - val_accuracy: 0.9926\n",
      "Epoch 16/30\n",
      "387/387 [==============================] - 8s 19ms/step - loss: 0.0414 - accuracy: 0.9945 - val_loss: 0.0548 - val_accuracy: 0.9926\n",
      "Epoch 17/30\n",
      "387/387 [==============================] - 8s 19ms/step - loss: 0.0398 - accuracy: 0.9948 - val_loss: 0.0546 - val_accuracy: 0.9930\n",
      "Epoch 18/30\n",
      "387/387 [==============================] - 8s 20ms/step - loss: 0.0389 - accuracy: 0.9946 - val_loss: 0.0530 - val_accuracy: 0.9932\n",
      "Epoch 19/30\n",
      "387/387 [==============================] - 8s 20ms/step - loss: 0.0374 - accuracy: 0.9947 - val_loss: 0.0521 - val_accuracy: 0.9929\n",
      "Epoch 20/30\n",
      "387/387 [==============================] - 8s 20ms/step - loss: 0.0364 - accuracy: 0.9949 - val_loss: 0.0515 - val_accuracy: 0.9930\n",
      "Epoch 21/30\n",
      "387/387 [==============================] - 8s 21ms/step - loss: 0.0349 - accuracy: 0.9949 - val_loss: 0.0523 - val_accuracy: 0.9930\n",
      "Epoch 22/30\n",
      "387/387 [==============================] - 7s 18ms/step - loss: 0.0338 - accuracy: 0.9952 - val_loss: 0.0520 - val_accuracy: 0.9929\n",
      "Epoch 23/30\n",
      "387/387 [==============================] - 7s 19ms/step - loss: 0.0330 - accuracy: 0.9950 - val_loss: 0.0540 - val_accuracy: 0.9930\n"
     ]
    }
   ],
   "source": [
    "from keras.models import Sequential\n",
    "from keras.layers import Dense, Embedding, Dropout, Flatten\n",
    "from keras.optimizers import Adam\n",
    "from keras.regularizers import l2\n",
    "from keras.callbacks import EarlyStopping\n",
    "\n",
    "# define input sequence shape\n",
    "sequence_length = X_train.shape[1]\n",
    "\n",
    "# define the model\n",
    "model = Sequential()\n",
    "model.add(Embedding(input_dim=len(tokenizer.word_index) + 1, output_dim=50, input_length=sequence_length))\n",
    "model.add(Dropout(0.5))  # add dropout\n",
    "model.add(Flatten())\n",
    "model.add(Dense(1, activation='sigmoid', kernel_regularizer=l2(0.01)))  # add L2 regularization\n",
    "\n",
    "# compile the model\n",
    "opt = Adam(learning_rate=0.001)\n",
    "model.compile(loss='binary_crossentropy', optimizer='adam', metrics=['accuracy'])\n",
    "\n",
    "# define early stopping\n",
    "early_stopping = EarlyStopping(monitor='val_loss', patience=3)\n",
    "\n",
    "# save history\n",
    "history = model.fit(X_train, y_train, epochs=30, batch_size=64, verbose=1, validation_data=(X_test, y_test), callbacks=[early_stopping])"
   ],
   "metadata": {
    "collapsed": false,
    "ExecuteTime": {
     "end_time": "2024-01-23T01:11:23.702920300Z",
     "start_time": "2024-01-23T01:08:15.462047500Z"
    }
   },
   "id": "f13c525f93e66df0"
  },
  {
   "cell_type": "code",
   "outputs": [],
   "source": [
    "# Save the model\n",
    "model.save('dl_model.h5')"
   ],
   "metadata": {
    "collapsed": false,
    "ExecuteTime": {
     "end_time": "2024-01-23T01:12:39.970874300Z",
     "start_time": "2024-01-23T01:12:39.751672500Z"
    }
   },
   "id": "f53c69865270dfca",
   "execution_count": 74
  },
  {
   "cell_type": "code",
   "execution_count": 75,
   "outputs": [
    {
     "data": {
      "text/plain": "<Figure size 1200x600 with 1 Axes>",
      "image/png": "[encoded data removed]"
     },
     "metadata": {},
     "output_type": "display_data"
    },
    {
     "data": {
      "text/plain": "<Figure size 1200x600 with 1 Axes>",
      "image/png": "[encoded data removed]"
     },
     "metadata": {},
     "output_type": "display_data"
    }
   ],
   "source": [
    "# Import the necessary library\n",
    "import matplotlib.pyplot as plt\n",
    "\n",
    "# Plot training & validation loss values\n",
    "plt.figure(figsize=(12, 6))\n",
    "plt.plot(history.history['loss'])\n",
    "plt.plot(history.history['val_loss'])\n",
    "plt.title('Model loss')\n",
    "plt.ylabel('Loss')\n",
    "plt.xlabel('Epoch')\n",
    "plt.legend(['Train', 'Validation'], loc='upper right')\n",
    "plt.show()\n",
    "\n",
    "\n",
    "# Afficher l'historique de l'accuracy\n",
    "plt.figure(figsize=(12, 6))\n",
    "plt.plot(history.history['accuracy'])\n",
    "plt.plot(history.history['val_accuracy'])\n",
    "plt.title('Model accuracy')\n",
    "plt.ylabel('accuracy')\n",
    "plt.xlabel('epochs')\n",
    "plt.legend(['train accuracy', 'validation accuracy'], loc='right')\n",
    "plt.show()\n"
   ],
   "metadata": {
    "collapsed": false,
    "ExecuteTime": {
     "end_time": "2024-01-23T01:12:41.486045300Z",
     "start_time": "2024-01-23T01:12:40.820222400Z"
    }
   },
   "id": "af1b16063f1b8775"
  },
  {
   "cell_type": "raw",
   "source": [
    "We can see that the accuracy of the model is very good. We can now save the model to use it in our web application. The training has been stopped just before the overfitting."
   ],
   "metadata": {
    "collapsed": false
   },
   "id": "761fb9ced8fa9d25"
  },
  {
   "cell_type": "code",
   "execution_count": 76,
   "outputs": [
    {
     "name": "stdout",
     "output_type": "stream",
     "text": [
      "1/1 [==============================] - 0s 120ms/step\n",
      "1/1 [==============================] - 0s 24ms/step\n",
      "Prediction: [[0.00908095]] The request is : benign\n",
      "Prediction: [[0.99325943]] The request is : SQL injection attack\n"
     ]
    }
   ],
   "source": [
    "# import necessary libraries\n",
    "from keras.preprocessing.sequence import pad_sequences\n",
    "\n",
    "# define the SQL statement\n",
    "sql_statement = \"SELECT * FROM employees WHERE department = 'Sales'\"\n",
    "sql_statement2 = \"SELECT ItemName, ItemDescription FROM Items WHERE ItemNumber = 999 or 1=1\"\n",
    "\n",
    "# preprocess the SQL statement\n",
    "# convert to lowercase\n",
    "sql_statement = sql_statement.lower()\n",
    "sql_statement2 = sql_statement2.lower()\n",
    "\n",
    "# tokenize\n",
    "tokens = sql_statement.split()\n",
    "tokens2 = sql_statement2.split()\n",
    "\n",
    "# join the tokens\n",
    "processed_query = ' '.join(tokens)\n",
    "processed_query2 = ' '.join(tokens2)\n",
    "\n",
    "# convert text to sequences\n",
    "sequences = tokenizer.texts_to_sequences([processed_query])\n",
    "sequences2 = tokenizer.texts_to_sequences([processed_query2])\n",
    "\n",
    "# pad the sequences\n",
    "padded_sequences = pad_sequences(sequences, maxlen=50)\n",
    "padded_sequences2 = pad_sequences(sequences2, maxlen=50)\n",
    "\n",
    "# make prediction\n",
    "prediction = model.predict(padded_sequences)\n",
    "prediction2 = model.predict(padded_sequences2)\n",
    "\n",
    "if (prediction > 0.5):\n",
    "    statement = 'SQL injection attack'\n",
    "else:\n",
    "    statement = 'benign'\n",
    "\n",
    "if (prediction2 > 0.5):\n",
    "    statement2 = 'SQL injection attack'\n",
    "else:\n",
    "    statement2 = 'benign'\n",
    "\n",
    "# print the prediction\n",
    "print('Prediction:', prediction, 'The request is :', statement)\n",
    "print('Prediction:', prediction2, 'The request is :', statement2)"
   ],
   "metadata": {
    "collapsed": false,
    "ExecuteTime": {
     "end_time": "2024-01-23T01:12:45.697050500Z",
     "start_time": "2024-01-23T01:12:45.358845900Z"
    }
   },
   "id": "f93d030ed28e6b97"
  },
  {
   "cell_type": "markdown",
   "source": [
    "We are testing the precision of our model"
   ],
   "metadata": {
    "collapsed": false
   },
   "id": "28ae1570817ef36b"
  },
  {
   "cell_type": "code",
   "execution_count": 77,
   "outputs": [
    {
     "name": "stdout",
     "output_type": "stream",
     "text": [
      "194/194 [==============================] - 0s 1ms/step\n",
      "Precision: 0.995549621717846\n"
     ]
    }
   ],
   "source": [
    "# test the precision of our model\n",
    "from sklearn.metrics import precision_score\n",
    "\n",
    "# make predictions\n",
    "y_pred = model.predict(X_test)\n",
    "\n",
    "# convert the predictions to binary\n",
    "y_pred = [1 if pred > 0.5 else 0 for pred in y_pred]\n",
    "\n",
    "# print the precision score\n",
    "print('Precision:', precision_score(y_test, y_pred))"
   ],
   "metadata": {
    "collapsed": false,
    "ExecuteTime": {
     "end_time": "2024-01-23T01:12:49.692885500Z",
     "start_time": "2024-01-23T01:12:49.250325600Z"
    }
   },
   "id": "dbbbf027040de27c"
  },
  {
   "cell_type": "markdown",
   "source": [
    "The dataset is not so complex, so the model gives good results with a good precision."
   ],
   "metadata": {
    "collapsed": false
   },
   "id": "b1e8d22128a59100"
  },
  {
   "cell_type": "code",
   "outputs": [],
   "source": [],
   "metadata": {
    "collapsed": false
   },
   "id": "e1ecdb87e33093ee"
  }
 ],
 "metadata": {
  "kernelspec": {
   "display_name": "Python 3 (ipykernel)",
   "language": "python",
   "name": "python3"
  },
  "language_info": {
   "codemirror_mode": {
    "name": "ipython",
    "version": 3
   },
   "file_extension": ".py",
   "mimetype": "text/x-python",
   "name": "python",
   "nbconvert_exporter": "python",
   "pygments_lexer": "ipython3",
   "version": "3.9.13"
  }
 },
 "nbformat": 4,
 "nbformat_minor": 5
}
