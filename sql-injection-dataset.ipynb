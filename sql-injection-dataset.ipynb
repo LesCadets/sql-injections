{
 "cells": [
  {
   "cell_type": "markdown",
   "id": "07d3d006",
   "metadata": {},
   "source": [
    " #"
   ]
  },
  {
   "cell_type": "markdown",
   "id": "1090a221",
   "metadata": {},
   "source": [
    "# In516 Cursus project - SQL injection detection"
   ]
  },
  {
   "cell_type": "markdown",
   "id": "3b2e6f4f",
   "metadata": {},
   "source": [
    "#### Objective : Predict, using machine learning and deep learning, if a SQL query is a SQL injection attack or not.\n"
   ]
  },
  {
   "cell_type": "markdown",
   "source": [
    "Contributors:\n",
    "- Matthias Cadet\n",
    "- Zakaria Chaouki\n",
    "- Pritam Kantane\n",
    "- Alexandre Pipet"
   ],
   "metadata": {
    "collapsed": false
   },
   "id": "c145d7b1165de3c"
  },
  {
   "cell_type": "markdown",
   "id": "e76f1ecb",
   "metadata": {},
   "source": [
    "# 1. Import the relevant libraries"
   ]
  },
  {
   "cell_type": "code",
   "execution_count": 1,
   "id": "66290795",
   "metadata": {
    "ExecuteTime": {
     "end_time": "2025-03-28T13:49:57.074739200Z",
     "start_time": "2025-03-28T13:49:52.065819Z"
    }
   },
   "outputs": [],
   "source": [
    "import pandas as pd\n",
    "from matplotlib import pyplot as plt\n",
    "from spacy.compat import pickle\n",
    "import seaborn as sns\n",
    "import numpy as np\n",
    "import itertools\n",
    "import warnings\n",
    "\n",
    "warnings.filterwarnings('ignore')"
   ]
  },
  {
   "cell_type": "markdown",
   "id": "38b61158",
   "metadata": {},
   "source": [
    "We open and read the data files. We can see that the dataset is composed of 2 columns : the first one is the query, the second one is the label (0 for benign and 1 for SQL injection attack)."
   ]
  },
  {
   "cell_type": "code",
   "execution_count": 2,
   "id": "e0c382d4",
   "metadata": {
    "ExecuteTime": {
     "end_time": "2025-03-28T13:49:57.207846200Z",
     "start_time": "2025-03-28T13:49:57.066430600Z"
    }
   },
   "outputs": [],
   "source": [
    "df = pd.read_csv('data/Modified_SQL_Dataset.csv')"
   ]
  },
  {
   "cell_type": "code",
   "outputs": [
    {
     "data": {
      "text/plain": "                                               Query  Label\n0                  \" or pg_sleep  (  __TIME__  )  --      1\n1  create user name identified by pass123 tempora...      1\n2   AND 1  =  utl_inaddr.get_host_address   (    ...      1\n3   select * from users where id  =  '1' or @ @1 ...      1\n4   select * from users where id  =  1 or 1#\"  ( ...      1",
      "text/html": "<div>\n<style scoped>\n    .dataframe tbody tr th:only-of-type {\n        vertical-align: middle;\n    }\n\n    .dataframe tbody tr th {\n        vertical-align: top;\n    }\n\n    .dataframe thead th {\n        text-align: right;\n    }\n</style>\n<table border=\"1\" class=\"dataframe\">\n  <thead>\n    <tr style=\"text-align: right;\">\n      <th></th>\n      <th>Query</th>\n      <th>Label</th>\n    </tr>\n  </thead>\n  <tbody>\n    <tr>\n      <th>0</th>\n      <td>\" or pg_sleep  (  __TIME__  )  --</td>\n      <td>1</td>\n    </tr>\n    <tr>\n      <th>1</th>\n      <td>create user name identified by pass123 tempora...</td>\n      <td>1</td>\n    </tr>\n    <tr>\n      <th>2</th>\n      <td>AND 1  =  utl_inaddr.get_host_address   (    ...</td>\n      <td>1</td>\n    </tr>\n    <tr>\n      <th>3</th>\n      <td>select * from users where id  =  '1' or @ @1 ...</td>\n      <td>1</td>\n    </tr>\n    <tr>\n      <th>4</th>\n      <td>select * from users where id  =  1 or 1#\"  ( ...</td>\n      <td>1</td>\n    </tr>\n  </tbody>\n</table>\n</div>"
     },
     "execution_count": 3,
     "metadata": {},
     "output_type": "execute_result"
    }
   ],
   "source": [
    "df.head()"
   ],
   "metadata": {
    "collapsed": false,
    "ExecuteTime": {
     "end_time": "2025-03-28T13:49:57.346993100Z",
     "start_time": "2025-03-28T13:49:57.150405300Z"
    }
   },
   "id": "d1b74ef0487c3929",
   "execution_count": 3
  },
  {
   "cell_type": "code",
   "outputs": [
    {
     "name": "stdout",
     "output_type": "stream",
     "text": [
      "\n",
      "Shape of train set: (30919, 2)\n"
     ]
    }
   ],
   "source": [
    "print('\\nShape of train set:', df.shape)"
   ],
   "metadata": {
    "collapsed": false,
    "ExecuteTime": {
     "end_time": "2025-03-28T13:49:57.373026300Z",
     "start_time": "2025-03-28T13:49:57.181011Z"
    }
   },
   "id": "62ea39999faefef5",
   "execution_count": 4
  },
  {
   "cell_type": "markdown",
   "id": "e97399e4",
   "metadata": {},
   "source": [
    "## 1 - Quick dataset analysis"
   ]
  },
  {
   "cell_type": "markdown",
   "id": "ca714359",
   "metadata": {},
   "source": [
    "Now that the dataset is imported in the jupyter file, we can start exploring, digging in the datas to see what it is composed of, understand the variables in it, the possible links between them, find the target etc. This step is very important because it allows the user to understand the meaning of datasets, see if information has to be changed, or removed and also start thinking about how datas should be used with the future implemented model.\n",
    "\n",
    "### A) Dataset cleaning and verifications\n",
    "\n"
   ]
  },
  {
   "cell_type": "markdown",
   "id": "8f8fae70",
   "metadata": {},
   "source": [
    "First, we check if there are repetitions of observations in the dataset."
   ]
  },
  {
   "cell_type": "code",
   "execution_count": 5,
   "id": "e9740eea",
   "metadata": {
    "ExecuteTime": {
     "end_time": "2025-03-28T13:49:57.385687300Z",
     "start_time": "2025-03-28T13:49:57.192931900Z"
    }
   },
   "outputs": [
    {
     "name": "stdout",
     "output_type": "stream",
     "text": [
      "Shape of train set: (30907, 2)\n"
     ]
    }
   ],
   "source": [
    "df = df.drop_duplicates()\n",
    "print('Shape of train set:', df.shape)"
   ]
  },
  {
   "cell_type": "markdown",
   "source": [
    "We can see that there were some repetitions in the dataset, so we removed them. Repetitions are not very good for the model because it can lead to overfitting and globally bias the model training."
   ],
   "metadata": {
    "collapsed": false
   },
   "id": "9d4c8ed965108eef"
  },
  {
   "cell_type": "markdown",
   "id": "80fbaf3c",
   "metadata": {
    "ExecuteTime": {
     "start_time": "2023-11-16T11:47:08.655112Z",
     "end_time": "2023-11-16T11:47:08.844460Z"
    }
   },
   "source": [
    "### B) Analysis of the datasets"
   ]
  },
  {
   "cell_type": "markdown",
   "source": [
    "We can start by displaying some charcteristics in order to know the size of the dataset and what's inside."
   ],
   "metadata": {
    "collapsed": false
   },
   "id": "2f883cdf1f797b0a"
  },
  {
   "cell_type": "code",
   "execution_count": 6,
   "id": "a8c41713",
   "metadata": {
    "ExecuteTime": {
     "end_time": "2025-03-28T13:49:57.396069700Z",
     "start_time": "2025-03-28T13:49:57.242155900Z"
    }
   },
   "outputs": [
    {
     "name": "stdout",
     "output_type": "stream",
     "text": [
      "Column names: Index(['Query', 'Label'], dtype='object') \n",
      "\n",
      "Dataset shape: (30907, 2) \n",
      "\n",
      "Variables types: Query    object\n",
      "Label     int64\n",
      "dtype: object \n",
      "\n",
      "Variables types count: object    1\n",
      "int64     1\n",
      "Name: count, dtype: int64\n"
     ]
    }
   ],
   "source": [
    "columnNames = df.columns\n",
    "datasetShape = df.shape\n",
    "variablesTypes = df.dtypes\n",
    "variablesTypesCount = df.dtypes.value_counts()\n",
    "\n",
    "print('Column names:', columnNames, '\\n')\n",
    "print('Dataset shape:', datasetShape, '\\n')\n",
    "print('Variables types:', variablesTypes, '\\n')\n",
    "print('Variables types count:', variablesTypesCount)"
   ]
  },
  {
   "cell_type": "markdown",
   "source": [
    "We can see that the dataset is composed of 2 columns : the first one is the query, the second one is the label (0 for benign and 1 for SQL injection attack).\n",
    "The features are the queries and the target is the label. It's the value we want to predict."
   ],
   "metadata": {
    "collapsed": false
   },
   "id": "401a59dbff648ff7"
  },
  {
   "cell_type": "markdown",
   "id": "38d98767",
   "metadata": {
    "ExecuteTime": {
     "start_time": "2023-11-16T11:55:18.180908Z",
     "end_time": "2023-11-16T11:55:18.225977Z"
    }
   },
   "source": [
    "### C) Analysis of the target variable"
   ]
  },
  {
   "cell_type": "code",
   "execution_count": 7,
   "id": "ed4699ef",
   "metadata": {
    "ExecuteTime": {
     "end_time": "2025-03-28T13:49:58.021097300Z",
     "start_time": "2025-03-28T13:49:57.272476900Z"
    }
   },
   "outputs": [
    {
     "name": "stdout",
     "output_type": "stream",
     "text": [
      "Repartition of the target:\n",
      " Label\n",
      "0    19529\n",
      "1    11378\n",
      "Name: count, dtype: int64\n",
      "\n",
      "Type of this variable: int64\n"
     ]
    },
    {
     "data": {
      "text/plain": "[Text(0, 0, 'benign'), Text(0, 1, 'SQL injection attacks')]"
     },
     "execution_count": 7,
     "metadata": {},
     "output_type": "execute_result"
    },
    {
     "data": {
      "text/plain": "<Figure size 1000x800 with 1 Axes>",
      "image/png": "[encoded data removed]"
     },
     "metadata": {},
     "output_type": "display_data"
    }
   ],
   "source": [
    "count_target = df['Label'].value_counts()\n",
    "target_type = df['Label'].dtype\n",
    "\n",
    "print('Repartition of the target:\\n', count_target)\n",
    "print('\\nType of this variable:', target_type)\n",
    "\n",
    "# plot the distribution of benign and SQL injection attacks in the dataset\n",
    "plt.figure(figsize=(10, 8))\n",
    "plt.title('Distribution of benign and SQL injection attacks in the dataset')\n",
    "ax = count_target.plot(kind='barh')\n",
    "ax.set_xlabel('Number of queries')\n",
    "ax.set_ylabel('Type of queries')\n",
    "for i, v in enumerate(count_target):\n",
    "    ax.text(v + 3, i + .25, str(v), color='black', fontweight='bold')\n",
    "\n",
    "# change 0 and 1 by benign and SQL injection attacks\n",
    "ax.set_yticklabels(['benign', 'SQL injection attacks'])\n"
   ]
  },
  {
   "cell_type": "markdown",
   "id": "36c11f4f",
   "metadata": {},
   "source": [
    "## 2 - Pre-processing"
   ]
  },
  {
   "cell_type": "code",
   "execution_count": 8,
   "id": "95c9cf02",
   "metadata": {
    "ExecuteTime": {
     "end_time": "2025-03-28T13:49:58.620201700Z",
     "start_time": "2025-03-28T13:49:57.761724400Z"
    }
   },
   "outputs": [],
   "source": [
    "from sklearn.model_selection import train_test_split"
   ]
  },
  {
   "cell_type": "markdown",
   "source": [
    "First, we make a copy of the original datasets."
   ],
   "metadata": {
    "collapsed": false
   },
   "id": "8fa0b4a74e1615b9"
  },
  {
   "cell_type": "code",
   "execution_count": 9,
   "outputs": [],
   "source": [
    "df_copy = df.copy()"
   ],
   "metadata": {
    "collapsed": false,
    "ExecuteTime": {
     "end_time": "2025-03-28T13:49:58.719767300Z",
     "start_time": "2025-03-28T13:49:58.205684500Z"
    }
   },
   "id": "aba6ebf3dedb1d96"
  },
  {
   "cell_type": "markdown",
   "source": [
    "We can finally build the matrices X and y for the train and  test sets"
   ],
   "metadata": {
    "collapsed": false
   },
   "id": "bd87bd186f364c92"
  },
  {
   "cell_type": "code",
   "execution_count": 10,
   "outputs": [],
   "source": [
    "X = df['Query']\n",
    "y = df['Label']"
   ],
   "metadata": {
    "collapsed": false,
    "ExecuteTime": {
     "end_time": "2025-03-28T13:49:58.721944900Z",
     "start_time": "2025-03-28T13:49:58.218831600Z"
    }
   },
   "id": "577264594a7f718f"
  },
  {
   "cell_type": "markdown",
   "source": [
    "# Tokenize the query column"
   ],
   "metadata": {
    "collapsed": false
   },
   "id": "9634a75571be8e0e"
  },
  {
   "cell_type": "markdown",
   "source": [
    "This step is very important because it allows us to convert the text data into numerical data that can be used by machine learning and deep learning models. Otherwise, the models won't be able to understand the text data.\n",
    "We have several methods to tokenize the text data, we can use the Tokenizer, TF-IDF vectorizer or any other method. We will use the Tokenizer from keras as it is sufficient for our work."
   ],
   "metadata": {
    "collapsed": false
   },
   "id": "a115ff6bc4f09f70"
  },
  {
   "cell_type": "code",
   "execution_count": 11,
   "outputs": [],
   "source": [
    "# import the necessary libraries\n",
    "import pandas as pd\n",
    "from tensorflow.keras.preprocessing.text import Tokenizer\n",
    "from tensorflow.keras.preprocessing.sequence import pad_sequences\n",
    "\n",
    "# convert the queries to a list\n",
    "queries = df['Query'].tolist()\n",
    "\n",
    "# preprocess the queries\n",
    "processed_queries = []\n",
    "padded_sequences = []\n",
    "for query in queries:\n",
    "    # convert to lowercase\n",
    "    query = query.lower()\n",
    "\n",
    "    # tokenization\n",
    "    tokens = query.split()\n",
    "\n",
    "    # join the tokens\n",
    "    processed_query = ' '.join(tokens)\n",
    "\n",
    "    # append to the list\n",
    "    processed_queries.append(processed_query)\n",
    "\n",
    "# convert text to sequences\n",
    "tokenizer = Tokenizer()\n",
    "tokenizer.fit_on_texts(processed_queries)\n",
    "sequences = tokenizer.texts_to_sequences(processed_queries)\n",
    "\n",
    "# pad the sequences\n",
    "padded_sequences = pad_sequences(sequences, maxlen=50)\n",
    "\n",
    "with open('tokenizer.pickle', 'wb') as handle:\n",
    "    pickle.dump(tokenizer, handle, protocol=pickle.HIGHEST_PROTOCOL)\n",
    "\n"
   ],
   "metadata": {
    "collapsed": false,
    "ExecuteTime": {
     "end_time": "2025-03-28T13:50:11.295188600Z",
     "start_time": "2025-03-28T13:49:58.224658500Z"
    }
   },
   "id": "da59d6de2ea3cb54"
  },
  {
   "cell_type": "markdown",
   "source": [
    "# Split the dataset into train and test sets"
   ],
   "metadata": {
    "collapsed": false
   },
   "id": "5131c5bf0f5b63ae"
  },
  {
   "cell_type": "raw",
   "source": [
    "Check if there already is a trained model"
   ],
   "metadata": {
    "collapsed": false
   },
   "id": "6936a901ed32dd66"
  },
  {
   "cell_type": "code",
   "execution_count": 12,
   "outputs": [
    {
     "name": "stdout",
     "output_type": "stream",
     "text": [
      "Creating and training a new model...\n",
      "Run all the cells below\n"
     ]
    }
   ],
   "source": [
    "import os.path\n",
    "\n",
    "if os.path.exists('trained_model_sql_injection.pickle'):\n",
    "    print('Loading trained model...')\n",
    "    model = pickle.load(open('trained_model_sql_injection.pickle', 'rb'))\n",
    "    print(\"*************************************************************************\")\n",
    "    print(\"Model loaded, you can now go to the last cell to make a prediction\")\n",
    "    print(\"*************************************************************************\")\n",
    "else:\n",
    "    print('Creating and training a new model...')\n",
    "    print(\"Run all the cells below\")"
   ],
   "metadata": {
    "collapsed": false,
    "ExecuteTime": {
     "end_time": "2025-03-28T13:50:11.318628700Z",
     "start_time": "2025-03-28T13:50:11.300210100Z"
    }
   },
   "id": "ee57b195b5888cda"
  },
  {
   "cell_type": "code",
   "execution_count": 13,
   "outputs": [
    {
     "name": "stdout",
     "output_type": "stream",
     "text": [
      "Shape of train set: (24725, 50)\n",
      "Shape of test set: (6182, 50)\n"
     ]
    }
   ],
   "source": [
    "X_train, X_test, y_train, y_test = train_test_split(padded_sequences, y, test_size=0.2, random_state=42)\n",
    "# print the shape of the train and test sets\n",
    "print('Shape of train set:', X_train.shape)\n",
    "print('Shape of test set:', X_test.shape)"
   ],
   "metadata": {
    "collapsed": false,
    "ExecuteTime": {
     "end_time": "2025-03-28T13:50:11.326328200Z",
     "start_time": "2025-03-28T13:50:11.306280500Z"
    }
   },
   "id": "94c550591b3b457e"
  },
  {
   "cell_type": "code",
   "outputs": [
    {
     "name": "stdout",
     "output_type": "stream",
     "text": [
      "[[    0     0     0 ...  3375  3375  3375]\n",
      " [    0     0     0 ...    30    18     3]\n",
      " [    0     0     0 ...     1    79  2217]\n",
      " ...\n",
      " [    0     0     0 ...  1099   108     3]\n",
      " [    0     0     0 ...     0     0 22345]\n",
      " [    0     0     0 ...    19    47    65]]\n"
     ]
    }
   ],
   "source": [
    "print(X_train)"
   ],
   "metadata": {
    "collapsed": false,
    "ExecuteTime": {
     "end_time": "2025-03-28T13:50:11.422300700Z",
     "start_time": "2025-03-28T13:50:11.325014600Z"
    }
   },
   "id": "5b4d072c814df388",
   "execution_count": 14
  },
  {
   "cell_type": "markdown",
   "source": [
    "In the train set, we have now 50 columns which corresponds to each word in the queries that hhave been tokenized in addition of the zero padding."
   ],
   "metadata": {
    "collapsed": false
   },
   "id": "83519f60a23d61c0"
  },
  {
   "cell_type": "markdown",
   "source": [
    "# Test with several machine learning models"
   ],
   "metadata": {
    "collapsed": false
   },
   "id": "354fbfb75d83ade7"
  },
  {
   "cell_type": "markdown",
   "source": [
    "Our first thought was to use a simple machine learning to predict the target variable. We will use several algorithms and compare their accuracy to choose the best one."
   ],
   "metadata": {
    "collapsed": false
   },
   "id": "410ad688186b1243"
  },
  {
   "cell_type": "code",
   "execution_count": 15,
   "outputs": [
    {
     "name": "stdout",
     "output_type": "stream",
     "text": [
      "Logistic Regression \n",
      "Accuracy: 0.7576835975412488 \n",
      "\n",
      "Confusion Matrix:\n",
      " [[3671  241]\n",
      " [1257 1013]] \n",
      "\n",
      "Classification Report:\n",
      "               precision    recall  f1-score   support\n",
      "\n",
      "           0       0.74      0.94      0.83      3912\n",
      "           1       0.81      0.45      0.57      2270\n",
      "\n",
      "    accuracy                           0.76      6182\n",
      "   macro avg       0.78      0.69      0.70      6182\n",
      "weighted avg       0.77      0.76      0.74      6182\n",
      "10-fold Cross Validation:\n",
      " 0.758138788887624\n",
      "=====================================================================\n",
      "Random Forest \n",
      "Accuracy: 0.9957942413458428 \n",
      "\n",
      "Confusion Matrix:\n",
      " [[3899   13]\n",
      " [  13 2257]] \n",
      "\n",
      "Classification Report:\n",
      "               precision    recall  f1-score   support\n",
      "\n",
      "           0       1.00      1.00      1.00      3912\n",
      "           1       0.99      0.99      0.99      2270\n",
      "\n",
      "    accuracy                           1.00      6182\n",
      "   macro avg       1.00      1.00      1.00      6182\n",
      "weighted avg       1.00      1.00      1.00      6182\n",
      "10-fold Cross Validation:\n",
      " 0.9955106902115665\n",
      "=====================================================================\n",
      "Decision Tree \n",
      "Accuracy: 0.9904561630540278 \n",
      "\n",
      "Confusion Matrix:\n",
      " [[3870   42]\n",
      " [  17 2253]] \n",
      "\n",
      "Classification Report:\n",
      "               precision    recall  f1-score   support\n",
      "\n",
      "           0       1.00      0.99      0.99      3912\n",
      "           1       0.98      0.99      0.99      2270\n",
      "\n",
      "    accuracy                           0.99      6182\n",
      "   macro avg       0.99      0.99      0.99      6182\n",
      "weighted avg       0.99      0.99      0.99      6182\n",
      "10-fold Cross Validation:\n",
      " 0.9897674332630599\n",
      "=====================================================================\n",
      "Support Vector Machine \n",
      "Accuracy: 0.9019734713684892 \n",
      "\n",
      "Confusion Matrix:\n",
      " [[3809  103]\n",
      " [ 503 1767]] \n",
      "\n",
      "Classification Report:\n",
      "               precision    recall  f1-score   support\n",
      "\n",
      "           0       0.88      0.97      0.93      3912\n",
      "           1       0.94      0.78      0.85      2270\n",
      "\n",
      "    accuracy                           0.90      6182\n",
      "   macro avg       0.91      0.88      0.89      6182\n",
      "weighted avg       0.91      0.90      0.90      6182\n",
      "10-fold Cross Validation:\n",
      " 0.8634175634064729\n",
      "=====================================================================\n",
      "K-Nearest Neighbors \n",
      "Accuracy: 0.9775153671950825 \n",
      "\n",
      "Confusion Matrix:\n",
      " [[3846   66]\n",
      " [  73 2197]] \n",
      "\n",
      "Classification Report:\n",
      "               precision    recall  f1-score   support\n",
      "\n",
      "           0       0.98      0.98      0.98      3912\n",
      "           1       0.97      0.97      0.97      2270\n",
      "\n",
      "    accuracy                           0.98      6182\n",
      "   macro avg       0.98      0.98      0.98      6182\n",
      "weighted avg       0.98      0.98      0.98      6182\n",
      "10-fold Cross Validation:\n",
      " 0.9773916224022028\n",
      "=====================================================================\n"
     ]
    }
   ],
   "source": [
    "# create a Machine learning algorithm to predict the target variable\n",
    "from sklearn.linear_model import LogisticRegression\n",
    "from sklearn.metrics import accuracy_score, confusion_matrix, classification_report\n",
    "from sklearn.model_selection import cross_val_score\n",
    "from sklearn.ensemble import RandomForestClassifier\n",
    "from sklearn.tree import DecisionTreeClassifier\n",
    "from sklearn.svm import SVC\n",
    "from sklearn.neighbors import KNeighborsClassifier\n",
    "    \n",
    "# create a dictionary of models\n",
    "models = {'Logistic Regression': LogisticRegression(),\n",
    "          'Random Forest': RandomForestClassifier(),\n",
    "          'Decision Tree': DecisionTreeClassifier(),\n",
    "          'Support Vector Machine': SVC(),\n",
    "          'K-Nearest Neighbors': KNeighborsClassifier()}\n",
    "\n",
    "# create a function to train and evaluate the models\n",
    "def train_and_evaluate(model, X_train, y_train, X_test, y_test):\n",
    "    # train the model\n",
    "    model.fit(X_train, y_train)\n",
    "\n",
    "    # make predictions\n",
    "    y_pred = model.predict(X_test)\n",
    "\n",
    "    # print the accuracy score\n",
    "    print('Accuracy:', accuracy_score(y_test, y_pred), '\\n')\n",
    "\n",
    "    # print the confusion matrix\n",
    "    print('Confusion Matrix:\\n', confusion_matrix(y_test, y_pred), '\\n')\n",
    "\n",
    "    # print the classification report\n",
    "    print('Classification Report:\\n', classification_report(y_test, y_pred))\n",
    "\n",
    "    # apply k-fold cross validation\n",
    "    accuracies = cross_val_score(estimator=model, X=X_train, y=y_train, cv=10)\n",
    "    print('10-fold Cross Validation:\\n', accuracies.mean())\n",
    "    \n",
    "# train and evaluate the models\n",
    "for name, model in models.items():\n",
    "    print(name, '\\n')\n",
    "    train_and_evaluate(model, X_train, y_train, X_test, y_test)\n",
    "    print('=====================================================================')"
   ],
   "metadata": {
    "collapsed": false,
    "ExecuteTime": {
     "end_time": "2025-03-28T13:54:08.345897200Z",
     "start_time": "2025-03-28T13:50:11.331962600Z"
    }
   },
   "id": "3edc62b505b00978"
  },
  {
   "cell_type": "code",
   "execution_count": 16,
   "outputs": [],
   "source": [
    "# save the best accuracy model using pickle\n",
    "import pickle\n",
    "\n",
    "# save the model to disk\n",
    "filename = 'ml_model.pickle'\n",
    "pickle.dump(models['Random Forest'], open(filename, 'wb'))"
   ],
   "metadata": {
    "collapsed": false,
    "ExecuteTime": {
     "end_time": "2025-03-28T13:54:08.411127400Z",
     "start_time": "2025-03-28T13:54:08.354895500Z"
    }
   },
   "id": "4ecc8b2f2ff45255"
  },
  {
   "cell_type": "code",
   "execution_count": 17,
   "outputs": [
    {
     "data": {
      "text/plain": "<Figure size 1200x800 with 1 Axes>",
      "image/png": "[encoded data removed]"
     },
     "metadata": {},
     "output_type": "display_data"
    }
   ],
   "source": [
    "# plot the accuracy of the models\n",
    "plt.figure(figsize=(12, 8))\n",
    "plt.title('Accuracy of the models')\n",
    "plt.xlabel('Models')\n",
    "plt.ylabel('Accuracy')\n",
    "plt.bar(list(models.keys()), [accuracy_score(y_test, model.predict(X_test)) for model in models.values()])\n",
    "plt.show()"
   ],
   "metadata": {
    "collapsed": false,
    "ExecuteTime": {
     "end_time": "2025-03-28T13:54:17.207562900Z",
     "start_time": "2025-03-28T13:54:08.391043300Z"
    }
   },
   "id": "dc4e056c76e01cab"
  },
  {
   "cell_type": "markdown",
   "source": [
    "We can see that the best accuracy is obtained with the Random Forest algorithm. We could use it to predict the target variable. However, to use a model in out API, we need to save it as hdf5 file. As we didn't succeed to save the Random Forest model as hdf5 file, we will use a deep neural network model with keras."
   ],
   "metadata": {
    "collapsed": false
   },
   "id": "91298f0e74b0b832"
  },
  {
   "cell_type": "markdown",
   "source": [
    "# Test with a deep neural network model with keras"
   ],
   "metadata": {
    "collapsed": false
   },
   "id": "e2e2636343a5f203"
  },
  {
   "cell_type": "markdown",
   "source": [
    "We create a simple DNN model with keras, then we fit it on the train set and evaluate it on the test set. Finally we save the model to use it in our web application."
   ],
   "metadata": {
    "collapsed": false
   },
   "id": "54e8573994836920"
  },
  {
   "cell_type": "code",
   "execution_count": 18,
   "outputs": [
    {
     "name": "stdout",
     "output_type": "stream",
     "text": [
      "Epoch 1/30\n",
      "\u001B[1m387/387\u001B[0m \u001B[32m━━━━━━━━━━━━━━━━━━━━\u001B[0m\u001B[37m\u001B[0m \u001B[1m7s\u001B[0m 14ms/step - accuracy: 0.8150 - loss: 0.4298 - val_accuracy: 0.9775 - val_loss: 0.1500\n",
      "Epoch 2/30\n",
      "\u001B[1m387/387\u001B[0m \u001B[32m━━━━━━━━━━━━━━━━━━━━\u001B[0m\u001B[37m\u001B[0m \u001B[1m5s\u001B[0m 13ms/step - accuracy: 0.9841 - loss: 0.1326 - val_accuracy: 0.9867 - val_loss: 0.1121\n",
      "Epoch 3/30\n",
      "\u001B[1m387/387\u001B[0m \u001B[32m━━━━━━━━━━━━━━━━━━━━\u001B[0m\u001B[37m\u001B[0m \u001B[1m5s\u001B[0m 13ms/step - accuracy: 0.9896 - loss: 0.1010 - val_accuracy: 0.9909 - val_loss: 0.0964\n",
      "Epoch 4/30\n",
      "\u001B[1m387/387\u001B[0m \u001B[32m━━━━━━━━━━━━━━━━━━━━\u001B[0m\u001B[37m\u001B[0m \u001B[1m5s\u001B[0m 13ms/step - accuracy: 0.9911 - loss: 0.0864 - val_accuracy: 0.9909 - val_loss: 0.0858\n",
      "Epoch 5/30\n",
      "\u001B[1m387/387\u001B[0m \u001B[32m━━━━━━━━━━━━━━━━━━━━\u001B[0m\u001B[37m\u001B[0m \u001B[1m5s\u001B[0m 13ms/step - accuracy: 0.9927 - loss: 0.0744 - val_accuracy: 0.9909 - val_loss: 0.0793\n",
      "Epoch 6/30\n",
      "\u001B[1m387/387\u001B[0m \u001B[32m━━━━━━━━━━━━━━━━━━━━\u001B[0m\u001B[37m\u001B[0m \u001B[1m5s\u001B[0m 13ms/step - accuracy: 0.9917 - loss: 0.0713 - val_accuracy: 0.9916 - val_loss: 0.0782\n",
      "Epoch 7/30\n",
      "\u001B[1m387/387\u001B[0m \u001B[32m━━━━━━━━━━━━━━━━━━━━\u001B[0m\u001B[37m\u001B[0m \u001B[1m5s\u001B[0m 12ms/step - accuracy: 0.9920 - loss: 0.0662 - val_accuracy: 0.9913 - val_loss: 0.0704\n",
      "Epoch 8/30\n",
      "\u001B[1m387/387\u001B[0m \u001B[32m━━━━━━━━━━━━━━━━━━━━\u001B[0m\u001B[37m\u001B[0m \u001B[1m5s\u001B[0m 13ms/step - accuracy: 0.9929 - loss: 0.0611 - val_accuracy: 0.9913 - val_loss: 0.0664\n",
      "Epoch 9/30\n",
      "\u001B[1m387/387\u001B[0m \u001B[32m━━━━━━━━━━━━━━━━━━━━\u001B[0m\u001B[37m\u001B[0m \u001B[1m5s\u001B[0m 13ms/step - accuracy: 0.9935 - loss: 0.0556 - val_accuracy: 0.9919 - val_loss: 0.0641\n",
      "Epoch 10/30\n",
      "\u001B[1m387/387\u001B[0m \u001B[32m━━━━━━━━━━━━━━━━━━━━\u001B[0m\u001B[37m\u001B[0m \u001B[1m5s\u001B[0m 12ms/step - accuracy: 0.9923 - loss: 0.0537 - val_accuracy: 0.9921 - val_loss: 0.0614\n",
      "Epoch 11/30\n",
      "\u001B[1m387/387\u001B[0m \u001B[32m━━━━━━━━━━━━━━━━━━━━\u001B[0m\u001B[37m\u001B[0m \u001B[1m5s\u001B[0m 13ms/step - accuracy: 0.9942 - loss: 0.0491 - val_accuracy: 0.9916 - val_loss: 0.0600\n",
      "Epoch 12/30\n",
      "\u001B[1m387/387\u001B[0m \u001B[32m━━━━━━━━━━━━━━━━━━━━\u001B[0m\u001B[37m\u001B[0m \u001B[1m5s\u001B[0m 12ms/step - accuracy: 0.9941 - loss: 0.0466 - val_accuracy: 0.9929 - val_loss: 0.0597\n",
      "Epoch 13/30\n",
      "\u001B[1m387/387\u001B[0m \u001B[32m━━━━━━━━━━━━━━━━━━━━\u001B[0m\u001B[37m\u001B[0m \u001B[1m5s\u001B[0m 12ms/step - accuracy: 0.9932 - loss: 0.0472 - val_accuracy: 0.9929 - val_loss: 0.0574\n",
      "Epoch 14/30\n",
      "\u001B[1m387/387\u001B[0m \u001B[32m━━━━━━━━━━━━━━━━━━━━\u001B[0m\u001B[37m\u001B[0m \u001B[1m5s\u001B[0m 12ms/step - accuracy: 0.9939 - loss: 0.0441 - val_accuracy: 0.9927 - val_loss: 0.0561\n",
      "Epoch 15/30\n",
      "\u001B[1m387/387\u001B[0m \u001B[32m━━━━━━━━━━━━━━━━━━━━\u001B[0m\u001B[37m\u001B[0m \u001B[1m5s\u001B[0m 12ms/step - accuracy: 0.9948 - loss: 0.0404 - val_accuracy: 0.9930 - val_loss: 0.0545\n",
      "Epoch 16/30\n",
      "\u001B[1m387/387\u001B[0m \u001B[32m━━━━━━━━━━━━━━━━━━━━\u001B[0m\u001B[37m\u001B[0m \u001B[1m5s\u001B[0m 12ms/step - accuracy: 0.9945 - loss: 0.0390 - val_accuracy: 0.9927 - val_loss: 0.0535\n",
      "Epoch 17/30\n",
      "\u001B[1m387/387\u001B[0m \u001B[32m━━━━━━━━━━━━━━━━━━━━\u001B[0m\u001B[37m\u001B[0m \u001B[1m5s\u001B[0m 13ms/step - accuracy: 0.9940 - loss: 0.0395 - val_accuracy: 0.9926 - val_loss: 0.0536\n",
      "Epoch 18/30\n",
      "\u001B[1m387/387\u001B[0m \u001B[32m━━━━━━━━━━━━━━━━━━━━\u001B[0m\u001B[37m\u001B[0m \u001B[1m5s\u001B[0m 13ms/step - accuracy: 0.9943 - loss: 0.0383 - val_accuracy: 0.9929 - val_loss: 0.0516\n",
      "Epoch 19/30\n",
      "\u001B[1m387/387\u001B[0m \u001B[32m━━━━━━━━━━━━━━━━━━━━\u001B[0m\u001B[37m\u001B[0m \u001B[1m5s\u001B[0m 12ms/step - accuracy: 0.9953 - loss: 0.0341 - val_accuracy: 0.9932 - val_loss: 0.0522\n",
      "Epoch 20/30\n",
      "\u001B[1m387/387\u001B[0m \u001B[32m━━━━━━━━━━━━━━━━━━━━\u001B[0m\u001B[37m\u001B[0m \u001B[1m5s\u001B[0m 12ms/step - accuracy: 0.9952 - loss: 0.0346 - val_accuracy: 0.9930 - val_loss: 0.0525\n",
      "Epoch 21/30\n",
      "\u001B[1m387/387\u001B[0m \u001B[32m━━━━━━━━━━━━━━━━━━━━\u001B[0m\u001B[37m\u001B[0m \u001B[1m5s\u001B[0m 12ms/step - accuracy: 0.9951 - loss: 0.0326 - val_accuracy: 0.9930 - val_loss: 0.0516\n",
      "Epoch 22/30\n",
      "\u001B[1m387/387\u001B[0m \u001B[32m━━━━━━━━━━━━━━━━━━━━\u001B[0m\u001B[37m\u001B[0m \u001B[1m5s\u001B[0m 12ms/step - accuracy: 0.9948 - loss: 0.0343 - val_accuracy: 0.9926 - val_loss: 0.0516\n",
      "Epoch 23/30\n",
      "\u001B[1m387/387\u001B[0m \u001B[32m━━━━━━━━━━━━━━━━━━━━\u001B[0m\u001B[37m\u001B[0m \u001B[1m5s\u001B[0m 12ms/step - accuracy: 0.9949 - loss: 0.0324 - val_accuracy: 0.9914 - val_loss: 0.0522\n",
      "Epoch 24/30\n",
      "\u001B[1m387/387\u001B[0m \u001B[32m━━━━━━━━━━━━━━━━━━━━\u001B[0m\u001B[37m\u001B[0m \u001B[1m5s\u001B[0m 12ms/step - accuracy: 0.9956 - loss: 0.0295 - val_accuracy: 0.9930 - val_loss: 0.0517\n"
     ]
    }
   ],
   "source": [
    "from tensorflow.keras.models import Sequential\n",
    "from tensorflow.keras.layers import Dense, Embedding, Dropout, Flatten\n",
    "from tensorflow.keras.optimizers import Adam\n",
    "from tensorflow.keras.regularizers import l2\n",
    "from tensorflow.keras.callbacks import EarlyStopping\n",
    "\n",
    "# define input sequence shape\n",
    "sequence_length = X_train.shape[1]\n",
    "\n",
    "# define the model\n",
    "model = Sequential()\n",
    "model.add(Embedding(input_dim=len(tokenizer.word_index) + 1, output_dim=50, input_length=sequence_length))\n",
    "model.add(Dropout(0.5))  # add dropout\n",
    "model.add(Flatten())\n",
    "model.add(Dense(1, activation='sigmoid', kernel_regularizer=l2(0.01)))  # add L2 regularization\n",
    "\n",
    "# compile the model\n",
    "opt = Adam(learning_rate=0.001)\n",
    "model.compile(loss='binary_crossentropy', optimizer='adam', metrics=['accuracy'])\n",
    "\n",
    "# define early stopping\n",
    "early_stopping = EarlyStopping(monitor='val_loss', patience=3)\n",
    "\n",
    "# save history\n",
    "history = model.fit(X_train, y_train, epochs=30, batch_size=64, verbose=1, validation_data=(X_test, y_test), callbacks=[early_stopping])"
   ],
   "metadata": {
    "collapsed": false,
    "ExecuteTime": {
     "end_time": "2025-03-28T13:56:16.464447300Z",
     "start_time": "2025-03-28T13:54:17.215205400Z"
    }
   },
   "id": "f13c525f93e66df0"
  },
  {
   "cell_type": "code",
   "outputs": [
    {
     "name": "stderr",
     "output_type": "stream",
     "text": [
      "WARNING:absl:You are saving your model as an HDF5 file via `model.save()` or `keras.saving.save_model(model)`. This file format is considered legacy. We recommend using instead the native Keras format, e.g. `model.save('my_model.keras')` or `keras.saving.save_model(model, 'my_model.keras')`. \n"
     ]
    }
   ],
   "source": [
    "# Save the model\n",
    "model.save('dl_model.h5')"
   ],
   "metadata": {
    "collapsed": false,
    "ExecuteTime": {
     "end_time": "2025-03-28T13:56:16.569659100Z",
     "start_time": "2025-03-28T13:56:16.462303Z"
    }
   },
   "id": "f53c69865270dfca",
   "execution_count": 19
  },
  {
   "cell_type": "code",
   "outputs": [
    {
     "data": {
      "text/plain": "<Figure size 1200x600 with 1 Axes>",
      "image/png": "[encoded data removed]"
     },
     "metadata": {},
     "output_type": "display_data"
    },
    {
     "data": {
      "text/plain": "<Figure size 1200x600 with 1 Axes>",
      "image/png": "[encoded data removed]"
     },
     "metadata": {},
     "output_type": "display_data"
    }
   ],
   "source": [
    "# Import the necessary library\n",
    "import matplotlib.pyplot as plt\n",
    "\n",
    "# Plot training & validation loss values\n",
    "plt.figure(figsize=(12, 6))\n",
    "plt.plot(history.history['loss'])\n",
    "plt.plot(history.history['val_loss'])\n",
    "plt.title('Model loss')\n",
    "plt.ylabel('Loss')\n",
    "plt.xlabel('Epoch')\n",
    "plt.legend(['Train', 'Validation'], loc='upper right')\n",
    "plt.show()\n",
    "\n",
    "\n",
    "# Plot the history of the accuracy\n",
    "plt.figure(figsize=(12, 6))\n",
    "plt.plot(history.history['accuracy'])\n",
    "plt.plot(history.history['val_accuracy'])\n",
    "plt.title('Model accuracy')\n",
    "plt.ylabel('accuracy')\n",
    "plt.xlabel('epochs')\n",
    "plt.legend(['train accuracy', 'validation accuracy'], loc='right')\n",
    "plt.show()\n"
   ],
   "metadata": {
    "collapsed": false,
    "ExecuteTime": {
     "end_time": "2025-03-28T13:56:16.905817Z",
     "start_time": "2025-03-28T13:56:16.565012200Z"
    }
   },
   "id": "af1b16063f1b8775",
   "execution_count": 20
  },
  {
   "cell_type": "raw",
   "source": [
    "We can see that the accuracy of the model is very good. We can now save the model to use it in our web application. The training has been stopped just before the overfitting."
   ],
   "metadata": {
    "collapsed": false
   },
   "id": "761fb9ced8fa9d25"
  },
  {
   "cell_type": "code",
   "execution_count": 21,
   "outputs": [
    {
     "name": "stdout",
     "output_type": "stream",
     "text": [
      "\u001B[1m1/1\u001B[0m \u001B[32m━━━━━━━━━━━━━━━━━━━━\u001B[0m\u001B[37m\u001B[0m \u001B[1m0s\u001B[0m 68ms/step\n",
      "\u001B[1m1/1\u001B[0m \u001B[32m━━━━━━━━━━━━━━━━━━━━\u001B[0m\u001B[37m\u001B[0m \u001B[1m0s\u001B[0m 42ms/step\n",
      "Prediction: [[0.00485029]] The request is : benign\n",
      "Prediction: [[0.9857554]] The request is : SQL injection attack\n"
     ]
    }
   ],
   "source": [
    "# import necessary libraries\n",
    "from tensorflow.keras.preprocessing.sequence import pad_sequences\n",
    "\n",
    "# define the SQL statement\n",
    "sql_statement = \"SELECT * FROM employees WHERE department = 'Sales'\"\n",
    "sql_statement2 = \"SELECT ItemName, ItemDescription FROM Items WHERE ItemNumber = 999 or 1=1\"\n",
    "\n",
    "# preprocess the SQL statement\n",
    "# convert to lowercase\n",
    "sql_statement = sql_statement.lower()\n",
    "sql_statement2 = sql_statement2.lower()\n",
    "\n",
    "# tokenize\n",
    "tokens = sql_statement.split()\n",
    "tokens2 = sql_statement2.split()\n",
    "\n",
    "# join the tokens\n",
    "processed_query = ' '.join(tokens)\n",
    "processed_query2 = ' '.join(tokens2)\n",
    "\n",
    "# convert text to sequences\n",
    "sequences = tokenizer.texts_to_sequences([processed_query])\n",
    "sequences2 = tokenizer.texts_to_sequences([processed_query2])\n",
    "\n",
    "# pad the sequences\n",
    "padded_sequences = pad_sequences(sequences, maxlen=50)\n",
    "padded_sequences2 = pad_sequences(sequences2, maxlen=50)\n",
    "\n",
    "# make prediction\n",
    "prediction = model.predict(padded_sequences)\n",
    "prediction2 = model.predict(padded_sequences2)\n",
    "\n",
    "statement = 'SQL injection attack' if prediction > 0.5 else 'benign'\n",
    "statement2 = 'SQL injection attack' if prediction2 > 0.5 else 'benign'\n",
    "\n",
    "# print the prediction\n",
    "print('Prediction:', prediction, 'The request is :', statement)\n",
    "print('Prediction:', prediction2, 'The request is :', statement2)"
   ],
   "metadata": {
    "collapsed": false,
    "ExecuteTime": {
     "end_time": "2025-03-28T13:56:17.116067200Z",
     "start_time": "2025-03-28T13:56:16.882373900Z"
    }
   },
   "id": "f93d030ed28e6b97"
  },
  {
   "cell_type": "markdown",
   "source": [
    "We are testing the precision of our model"
   ],
   "metadata": {
    "collapsed": false
   },
   "id": "28ae1570817ef36b"
  },
  {
   "cell_type": "code",
   "execution_count": 22,
   "outputs": [
    {
     "name": "stdout",
     "output_type": "stream",
     "text": [
      "\u001B[1m194/194\u001B[0m \u001B[32m━━━━━━━━━━━━━━━━━━━━\u001B[0m\u001B[37m\u001B[0m \u001B[1m0s\u001B[0m 1ms/step\n",
      "Precision: 0.9968763944667559\n"
     ]
    }
   ],
   "source": [
    "# test the precision of our model\n",
    "from sklearn.metrics import precision_score\n",
    "\n",
    "# make predictions\n",
    "y_pred = model.predict(X_test)\n",
    "\n",
    "# convert the predictions to binary\n",
    "y_pred = [1 if pred > 0.5 else 0 for pred in y_pred]\n",
    "\n",
    "# print the precision score\n",
    "print('Precision:', precision_score(y_test, y_pred))"
   ],
   "metadata": {
    "collapsed": false,
    "ExecuteTime": {
     "end_time": "2025-03-28T13:56:17.593740400Z",
     "start_time": "2025-03-28T13:56:17.100921Z"
    }
   },
   "id": "dbbbf027040de27c"
  },
  {
   "cell_type": "markdown",
   "source": [
    "The dataset is not so complex, so the model gives good results with a good precision."
   ],
   "metadata": {
    "collapsed": false
   },
   "id": "b1e8d22128a59100"
  }
 ],
 "metadata": {
  "kernelspec": {
   "display_name": "Python 3 (ipykernel)",
   "language": "python",
   "name": "python3"
  },
  "language_info": {
   "codemirror_mode": {
    "name": "ipython",
    "version": 3
   },
   "file_extension": ".py",
   "mimetype": "text/x-python",
   "name": "python",
   "nbconvert_exporter": "python",
   "pygments_lexer": "ipython3",
   "version": "3.9.13"
  }
 },
 "nbformat": 4,
 "nbformat_minor": 5
}
